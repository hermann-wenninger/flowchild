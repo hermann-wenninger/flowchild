{
 "cells": [
  {
   "cell_type": "code",
   "execution_count": 10,
   "metadata": {},
   "outputs": [
    {
     "output_type": "stream",
     "name": "stdout",
     "text": "[ 1.          1.18367347  1.36734694  1.55102041  1.73469388  1.91836735\n  2.10204082  2.28571429  2.46938776  2.65306122  2.83673469  3.02040816\n  3.20408163  3.3877551   3.57142857  3.75510204  3.93877551  4.12244898\n  4.30612245  4.48979592  4.67346939  4.85714286  5.04081633  5.2244898\n  5.40816327  5.59183673  5.7755102   5.95918367  6.14285714  6.32653061\n  6.51020408  6.69387755  6.87755102  7.06122449  7.24489796  7.42857143\n  7.6122449   7.79591837  7.97959184  8.16326531  8.34693878  8.53061224\n  8.71428571  8.89795918  9.08163265  9.26530612  9.44897959  9.63265306\n  9.81632653 10.        ]\n"
    }
   ],
   "source": [
    "import  numpy  as  np\n",
    "print ( np . linspace ( 1 ,  10 )) "
   ]
  },
  {
   "cell_type": "code",
   "execution_count": 11,
   "metadata": {},
   "outputs": [
    {
     "output_type": "stream",
     "name": "stdout",
     "text": "[ 0.          0.71428571  1.42857143  2.14285714  2.85714286  3.57142857\n  4.28571429  5.          5.71428571  6.42857143  7.14285714  7.85714286\n  8.57142857  9.28571429 10.        ]\n"
    }
   ],
   "source": [
    "print(np.linspace(0 , 10, 15))"
   ]
  }
 ],
 "metadata": {
  "language_info": {
   "codemirror_mode": {
    "name": "ipython",
    "version": 3
   },
   "file_extension": ".py",
   "mimetype": "text/x-python",
   "name": "python",
   "nbconvert_exporter": "python",
   "pygments_lexer": "ipython3",
   "version": "3.7.6-final"
  },
  "orig_nbformat": 2,
  "kernelspec": {
   "name": "python3",
   "display_name": "Python 3"
  }
 },
 "nbformat": 4,
 "nbformat_minor": 2
}