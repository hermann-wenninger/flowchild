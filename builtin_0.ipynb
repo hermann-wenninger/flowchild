{
 "cells": [
  {
   "cell_type": "code",
   "execution_count": 22,
   "metadata": {},
   "outputs": [
    {
     "data": {
      "text/plain": [
       "40"
      ]
     },
     "execution_count": 22,
     "metadata": {},
     "output_type": "execute_result"
    }
   ],
   "source": [
    "import zlib\n",
    "s = b'An vielen Tagen, tagen mit vielen Fragen'\n",
    "len(s)"
   ]
  },
  {
   "cell_type": "code",
   "execution_count": 23,
   "metadata": {},
   "outputs": [
    {
     "data": {
      "text/plain": [
       "37"
      ]
     },
     "execution_count": 23,
     "metadata": {},
     "output_type": "execute_result"
    }
   ],
   "source": [
    "t = zlib.compress(s)\n",
    "len(t)"
   ]
  },
  {
   "cell_type": "code",
   "execution_count": 24,
   "metadata": {},
   "outputs": [
    {
     "data": {
      "text/plain": [
       "b'An vielen Tagen, tagen mit vielen Fragen'"
      ]
     },
     "execution_count": 24,
     "metadata": {},
     "output_type": "execute_result"
    }
   ],
   "source": [
    "zlib.decompress(t)"
   ]
  },
  {
   "cell_type": "code",
   "execution_count": 28,
   "metadata": {},
   "outputs": [
    {
     "data": {
      "text/plain": [
       "61711295"
      ]
     },
     "execution_count": 28,
     "metadata": {},
     "output_type": "execute_result"
    }
   ],
   "source": [
    "zlib.crc32(s)"
   ]
  },
  {
   "cell_type": "code",
   "execution_count": 26,
   "metadata": {},
   "outputs": [
    {
     "name": "stdout",
     "output_type": "stream",
     "text": [
      "Help on built-in function crc32 in module zlib:\n",
      "\n",
      "crc32(data, value=0, /)\n",
      "    Compute a CRC-32 checksum of data.\n",
      "    \n",
      "      value\n",
      "        Starting value of the checksum.\n",
      "    \n",
      "    The returned checksum is an integer.\n",
      "\n"
     ]
    }
   ],
   "source": [
    "help(zlib.crc32)"
   ]
  },
  {
   "cell_type": "code",
   "execution_count": 27,
   "metadata": {},
   "outputs": [
    {
     "name": "stdout",
     "output_type": "stream",
     "text": [
      "Help on built-in module zlib:\n",
      "\n",
      "NAME\n",
      "    zlib\n",
      "\n",
      "DESCRIPTION\n",
      "    The functions in this module allow compression and decompression using the\n",
      "    zlib library, which is based on GNU zip.\n",
      "    \n",
      "    adler32(string[, start]) -- Compute an Adler-32 checksum.\n",
      "    compress(data[, level]) -- Compress data, with compression level 0-9 or -1.\n",
      "    compressobj([level[, ...]]) -- Return a compressor object.\n",
      "    crc32(string[, start]) -- Compute a CRC-32 checksum.\n",
      "    decompress(string,[wbits],[bufsize]) -- Decompresses a compressed string.\n",
      "    decompressobj([wbits[, zdict]]]) -- Return a decompressor object.\n",
      "    \n",
      "    'wbits' is window buffer size and container format.\n",
      "    Compressor objects support compress() and flush() methods; decompressor\n",
      "    objects support decompress() and flush().\n",
      "\n",
      "CLASSES\n",
      "    builtins.Exception(builtins.BaseException)\n",
      "        error\n",
      "    \n",
      "    class error(builtins.Exception)\n",
      "     |  Common base class for all non-exit exceptions.\n",
      "     |  \n",
      "     |  Method resolution order:\n",
      "     |      error\n",
      "     |      builtins.Exception\n",
      "     |      builtins.BaseException\n",
      "     |      builtins.object\n",
      "     |  \n",
      "     |  Data descriptors defined here:\n",
      "     |  \n",
      "     |  __weakref__\n",
      "     |      list of weak references to the object (if defined)\n",
      "     |  \n",
      "     |  ----------------------------------------------------------------------\n",
      "     |  Methods inherited from builtins.Exception:\n",
      "     |  \n",
      "     |  __init__(self, /, *args, **kwargs)\n",
      "     |      Initialize self.  See help(type(self)) for accurate signature.\n",
      "     |  \n",
      "     |  ----------------------------------------------------------------------\n",
      "     |  Static methods inherited from builtins.Exception:\n",
      "     |  \n",
      "     |  __new__(*args, **kwargs) from builtins.type\n",
      "     |      Create and return a new object.  See help(type) for accurate signature.\n",
      "     |  \n",
      "     |  ----------------------------------------------------------------------\n",
      "     |  Methods inherited from builtins.BaseException:\n",
      "     |  \n",
      "     |  __delattr__(self, name, /)\n",
      "     |      Implement delattr(self, name).\n",
      "     |  \n",
      "     |  __getattribute__(self, name, /)\n",
      "     |      Return getattr(self, name).\n",
      "     |  \n",
      "     |  __reduce__(...)\n",
      "     |      Helper for pickle.\n",
      "     |  \n",
      "     |  __repr__(self, /)\n",
      "     |      Return repr(self).\n",
      "     |  \n",
      "     |  __setattr__(self, name, value, /)\n",
      "     |      Implement setattr(self, name, value).\n",
      "     |  \n",
      "     |  __setstate__(...)\n",
      "     |  \n",
      "     |  __str__(self, /)\n",
      "     |      Return str(self).\n",
      "     |  \n",
      "     |  with_traceback(...)\n",
      "     |      Exception.with_traceback(tb) --\n",
      "     |      set self.__traceback__ to tb and return self.\n",
      "     |  \n",
      "     |  ----------------------------------------------------------------------\n",
      "     |  Data descriptors inherited from builtins.BaseException:\n",
      "     |  \n",
      "     |  __cause__\n",
      "     |      exception cause\n",
      "     |  \n",
      "     |  __context__\n",
      "     |      exception context\n",
      "     |  \n",
      "     |  __dict__\n",
      "     |  \n",
      "     |  __suppress_context__\n",
      "     |  \n",
      "     |  __traceback__\n",
      "     |  \n",
      "     |  args\n",
      "\n",
      "FUNCTIONS\n",
      "    adler32(data, value=1, /)\n",
      "        Compute an Adler-32 checksum of data.\n",
      "        \n",
      "          value\n",
      "            Starting value of the checksum.\n",
      "        \n",
      "        The returned checksum is an integer.\n",
      "    \n",
      "    compress(data, /, level=-1)\n",
      "        Returns a bytes object containing compressed data.\n",
      "        \n",
      "        data\n",
      "          Binary data to be compressed.\n",
      "        level\n",
      "          Compression level, in 0-9 or -1.\n",
      "    \n",
      "    compressobj(level=-1, method=8, wbits=15, memLevel=8, strategy=0, zdict=None)\n",
      "        Return a compressor object.\n",
      "        \n",
      "        level\n",
      "          The compression level (an integer in the range 0-9 or -1; default is\n",
      "          currently equivalent to 6).  Higher compression levels are slower,\n",
      "          but produce smaller results.\n",
      "        method\n",
      "          The compression algorithm.  If given, this must be DEFLATED.\n",
      "        wbits\n",
      "          +9 to +15: The base-two logarithm of the window size.  Include a zlib\n",
      "              container.\n",
      "          -9 to -15: Generate a raw stream.\n",
      "          +25 to +31: Include a gzip container.\n",
      "        memLevel\n",
      "          Controls the amount of memory used for internal compression state.\n",
      "          Valid values range from 1 to 9.  Higher values result in higher memory\n",
      "          usage, faster compression, and smaller output.\n",
      "        strategy\n",
      "          Used to tune the compression algorithm.  Possible values are\n",
      "          Z_DEFAULT_STRATEGY, Z_FILTERED, and Z_HUFFMAN_ONLY.\n",
      "        zdict\n",
      "          The predefined compression dictionary - a sequence of bytes\n",
      "          containing subsequences that are likely to occur in the input data.\n",
      "    \n",
      "    crc32(data, value=0, /)\n",
      "        Compute a CRC-32 checksum of data.\n",
      "        \n",
      "          value\n",
      "            Starting value of the checksum.\n",
      "        \n",
      "        The returned checksum is an integer.\n",
      "    \n",
      "    decompress(data, /, wbits=15, bufsize=16384)\n",
      "        Returns a bytes object containing the uncompressed data.\n",
      "        \n",
      "        data\n",
      "          Compressed data.\n",
      "        wbits\n",
      "          The window buffer size and container format.\n",
      "        bufsize\n",
      "          The initial output buffer size.\n",
      "    \n",
      "    decompressobj(wbits=15, zdict=b'')\n",
      "        Return a decompressor object.\n",
      "        \n",
      "        wbits\n",
      "          The window buffer size and container format.\n",
      "        zdict\n",
      "          The predefined compression dictionary.  This must be the same\n",
      "          dictionary as used by the compressor that produced the input data.\n",
      "\n",
      "DATA\n",
      "    DEFLATED = 8\n",
      "    DEF_BUF_SIZE = 16384\n",
      "    DEF_MEM_LEVEL = 8\n",
      "    MAX_WBITS = 15\n",
      "    ZLIB_RUNTIME_VERSION = '1.2.11'\n",
      "    ZLIB_VERSION = '1.2.11'\n",
      "    Z_BEST_COMPRESSION = 9\n",
      "    Z_BEST_SPEED = 1\n",
      "    Z_BLOCK = 5\n",
      "    Z_DEFAULT_COMPRESSION = -1\n",
      "    Z_DEFAULT_STRATEGY = 0\n",
      "    Z_FILTERED = 1\n",
      "    Z_FINISH = 4\n",
      "    Z_FIXED = 4\n",
      "    Z_FULL_FLUSH = 3\n",
      "    Z_HUFFMAN_ONLY = 2\n",
      "    Z_NO_COMPRESSION = 0\n",
      "    Z_NO_FLUSH = 0\n",
      "    Z_PARTIAL_FLUSH = 1\n",
      "    Z_RLE = 3\n",
      "    Z_SYNC_FLUSH = 2\n",
      "    Z_TREES = 6\n",
      "\n",
      "VERSION\n",
      "    1.0\n",
      "\n",
      "FILE\n",
      "    (built-in)\n",
      "\n",
      "\n"
     ]
    }
   ],
   "source": [
    "help(zlib)"
   ]
  },
  {
   "cell_type": "code",
   "execution_count": null,
   "metadata": {},
   "outputs": [],
   "source": []
  },
  {
   "cell_type": "code",
   "execution_count": null,
   "metadata": {},
   "outputs": [],
   "source": []
  }
 ],
 "metadata": {
  "kernelspec": {
   "display_name": "Python 3",
   "language": "python",
   "name": "python3"
  },
  "language_info": {
   "codemirror_mode": {
    "name": "ipython",
    "version": 3
   },
   "file_extension": ".py",
   "mimetype": "text/x-python",
   "name": "python",
   "nbconvert_exporter": "python",
   "pygments_lexer": "ipython3",
   "version": "3.7.6"
  }
 },
 "nbformat": 4,
 "nbformat_minor": 4
}
